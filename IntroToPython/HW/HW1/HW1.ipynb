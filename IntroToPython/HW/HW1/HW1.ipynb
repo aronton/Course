{
 "cells": [
  {
   "cell_type": "code",
   "execution_count": 25,
   "metadata": {},
   "outputs": [
    {
     "name": "stdout",
     "output_type": "stream",
     "text": [
      "Welcome to PyMoney\n",
      "Initial Money is 0\n",
      "5\n",
      "Current Money is -5\n",
      "Current Money is 5\n",
      "30\n",
      "Current Money is -25\n",
      "8\n",
      "Current Money is -33\n"
     ]
    }
   ],
   "source": [
    "print(\"Welcome to PyMoney\")\n",
    "money = 0\n",
    "print(\"Initial Money is\", money)\n",
    "continueOrNot = input(\"If you want to add or take money, key Y \")\n",
    "while (continueOrNot == \"Y\"):\n",
    "    \n",
    "    a = input(\"add or take ? key Y or N\")\n",
    "\n",
    "    if(a == \"Y\"):\n",
    "        add = input(\"How much you add\")\n",
    "        money = money + int(add)\n",
    "    if(a == \"N\"):\n",
    "        take = input(\"How much you take ( you can use format in -10 or 10)\")\n",
    "        if(take[0] == \"-\"):\n",
    "            money = money - int(take[1:])\n",
    "        else:\n",
    "            money = money - int(take)\n",
    "            \n",
    "    print(\"Current Money is\", money)\n",
    "    continueOrNot = input(\"If you want to continue to add or take money, key Y \")\n"
   ]
  },
  {
   "cell_type": "code",
   "execution_count": 24,
   "metadata": {},
   "outputs": [
    {
     "name": "stdout",
     "output_type": "stream",
     "text": [
      "-\n"
     ]
    }
   ],
   "source": [
    "take = \"-10\"\n",
    "print(take[0])\n"
   ]
  },
  {
   "cell_type": "code",
   "execution_count": 15,
   "metadata": {},
   "outputs": [
    {
     "data": {
      "text/plain": [
       "False"
      ]
     },
     "execution_count": 15,
     "metadata": {},
     "output_type": "execute_result"
    }
   ],
   "source": [
    "ok = \"Y\"\n",
    "ok == \"N\"\n"
   ]
  },
  {
   "cell_type": "code",
   "execution_count": 11,
   "metadata": {},
   "outputs": [
    {
     "data": {
      "text/plain": [
       "'bcde'"
      ]
     },
     "execution_count": 11,
     "metadata": {},
     "output_type": "execute_result"
    }
   ],
   "source": [
    "s = \"abcde\"\n",
    "s[1:]"
   ]
  },
  {
   "cell_type": "code",
   "execution_count": null,
   "metadata": {},
   "outputs": [],
   "source": []
  }
 ],
 "metadata": {
  "kernelspec": {
   "display_name": "Python 3",
   "language": "python",
   "name": "python3"
  },
  "language_info": {
   "codemirror_mode": {
    "name": "ipython",
    "version": 3
   },
   "file_extension": ".py",
   "mimetype": "text/x-python",
   "name": "python",
   "nbconvert_exporter": "python",
   "pygments_lexer": "ipython3",
   "version": "3.10.8"
  },
  "orig_nbformat": 4
 },
 "nbformat": 4,
 "nbformat_minor": 2
}
