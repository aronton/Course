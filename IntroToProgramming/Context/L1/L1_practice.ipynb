{
 "cells": [
  {
   "cell_type": "code",
   "execution_count": null,
   "metadata": {
    "vscode": {
     "languageId": "c"
    }
   },
   "outputs": [],
   "source": [
    "#include<stdio.h>\n",
    "#include<stdlib.h>"
   ]
  },
  {
   "cell_type": "code",
   "execution_count": null,
   "metadata": {
    "vscode": {
     "languageId": "c"
    }
   },
   "outputs": [],
   "source": [
    "typedef struct node{\n",
    "    int value;\n",
    "    node * next;\n",
    "} Node;\n",
    "\n",
    "Node x;"
   ]
  },
  {
   "cell_type": "code",
   "execution_count": 1,
   "metadata": {
    "vscode": {
     "languageId": "c++"
    }
   },
   "outputs": [],
   "source": [
    "typedef struct node{\n",
    "    int data;\n",
    "    node * next;\n",
    "} Node;\n",
    "\n",
    "Node x;\n",
    "Node t;\n"
   ]
  },
  {
   "cell_type": "code",
   "execution_count": 29,
   "metadata": {
    "vscode": {
     "languageId": "c++"
    }
   },
   "outputs": [
    {
     "name": "stdout",
     "output_type": "stream",
     "text": [
      "66"
     ]
    }
   ],
   "source": [
    "t.data = 6;\n",
    "printf(\"%d\", t.data);\n",
    "Node *y;\n",
    "y = &t;\n",
    "printf(\"%d\", (*y).data);"
   ]
  },
  {
   "cell_type": "code",
   "execution_count": 22,
   "metadata": {
    "vscode": {
     "languageId": "c++"
    }
   },
   "outputs": [
    {
     "name": "stderr",
     "output_type": "stream",
     "text": [
      "input_line_28:2:2: warning: null passed to a callee that requires a non-null argument [-Wnonnull]\n",
      " y->data=8;\n",
      " ^\n"
     ]
    },
    {
     "ename": "Interpreter Exception",
     "evalue": "",
     "output_type": "error",
     "traceback": [
      "Interpreter Exception: "
     ]
    }
   ],
   "source": [
    "y->data=8;\n",
    "printf(\"%d\", (*y).data);"
   ]
  },
  {
   "cell_type": "code",
   "execution_count": 15,
   "metadata": {
    "vscode": {
     "languageId": "c++"
    }
   },
   "outputs": [],
   "source": [
    "Node * Creat(int val)\n",
    "{\n",
    "    Node *hp = (Node *) malloc(sizeof(Node));\n",
    "    hp->data = val;\n",
    "    hp->next = hp;\n",
    "    return hp;\n",
    "}"
   ]
  },
  {
   "cell_type": "code",
   "execution_count": 13,
   "metadata": {
    "vscode": {
     "languageId": "c++"
    }
   },
   "outputs": [
    {
     "name": "stderr",
     "output_type": "stream",
     "text": [
      "input_line_19:4:1: warning: null passed to a callee that requires a non-null argument [-Wnonnull]\n",
      "y->data=3;\n",
      "^\n"
     ]
    },
    {
     "ename": "Interpreter Exception",
     "evalue": "",
     "output_type": "error",
     "traceback": [
      "Interpreter Exception: "
     ]
    }
   ],
   "source": [
    "x.data = 2;\n",
    "x.next = y;\n",
    "y->data=3;\n",
    "printf(\"%d\", x.data);\n",
    "// printf(\"%p\", x.next);\n",
    "printf(\"%d\", (*y).data);\n"
   ]
  },
  {
   "cell_type": "code",
   "execution_count": 12,
   "metadata": {
    "vscode": {
     "languageId": "c++"
    }
   },
   "outputs": [
    {
     "name": "stderr",
     "output_type": "stream",
     "text": [
      "input_line_18:4:1: error: no matching function for call to 'printf'\n",
      "printf(x);\n",
      "^~~~~~\n",
      "/home/aronton/anaconda3/envs/cpp/x86_64-conda-linux-gnu/sysroot/usr/include/stdio.h:361:12: note: candidate function not viable: no known conversion from '__cling_N510::Node' (aka 'node') to 'const char *__restrict' for 1st argument\n",
      "extern int printf (__const char *__restrict __format, ...);\n",
      "           ^\n"
     ]
    },
    {
     "ename": "Interpreter Error",
     "evalue": "",
     "output_type": "error",
     "traceback": [
      "Interpreter Error: "
     ]
    }
   ],
   "source": [
    "Node * Assign(int value)\n",
    "{\n",
    "    \n",
    "}"
   ]
  },
  {
   "cell_type": "code",
   "execution_count": null,
   "metadata": {
    "vscode": {
     "languageId": "c++"
    }
   },
   "outputs": [],
   "source": []
  }
 ],
 "metadata": {
  "kernelspec": {
   "display_name": "C++11",
   "language": "C++11",
   "name": "xcpp11"
  },
  "language_info": {
   "codemirror_mode": "text/x-c++src",
   "file_extension": ".cpp",
   "mimetype": "text/x-c++src",
   "name": "C++11",
   "version": "11"
  },
  "orig_nbformat": 4
 },
 "nbformat": 4,
 "nbformat_minor": 2
}
