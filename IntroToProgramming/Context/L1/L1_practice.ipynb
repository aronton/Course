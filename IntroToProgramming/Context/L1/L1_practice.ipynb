{
 "cells": [
  {
   "cell_type": "code",
   "execution_count": null,
   "metadata": {
    "vscode": {
     "languageId": "c"
    }
   },
   "outputs": [],
   "source": [
    "#include<stdio.h>\n",
    "#include<stdlib.h>\n",
    "#include<iostream>\n",
    "\n",
    "\n",
    "\n",
    "int i;\n",
    "\n",
    "// cout >> i;\n",
    "scanf(\"%d\",&i);"
   ]
  },
  {
   "cell_type": "code",
   "execution_count": 20,
   "metadata": {},
   "outputs": [
    {
     "name": "stderr",
     "output_type": "stream",
     "text": [
      "input_line_38:2:16: error: expected body of lambda expression\n",
      " int a[10] = []; \n",
      "               ^\n",
      "input_line_38:3:3: error: array type 'int [10]' is not assignable\n",
      "a = {1,3,8,4,6,9,7,1,3,5};\n",
      "~ ^\n",
      "input_line_38:5:1: error: function definition is not allowed here\n",
      "{\n",
      "^\n",
      "input_line_38:15:10: error: use of undeclared identifier 'b_search'\n",
      "int aa = b_search(1,10,2);\n",
      "         ^\n",
      "input_line_38:16:1: error: use of undeclared identifier 'cout'; did you mean 'std::cout'?\n",
      "cout << aa;\n",
      "^~~~\n",
      "std::cout\n",
      "/home/aronton/anaconda3/envs/cpp/bin/../lib/gcc/x86_64-conda-linux-gnu/11.2.0/../../../../x86_64-conda-linux-gnu/include/c++/11.2.0/iostream:61:18: note: 'std::cout' declared here\n",
      "  extern ostream cout;          /// Linked to standard output\n",
      "                 ^\n"
     ]
    },
    {
     "ename": "Interpreter Error",
     "evalue": "",
     "output_type": "error",
     "traceback": [
      "Interpreter Error: "
     ]
    }
   ],
   "source": [
    "c"
   ]
  },
  {
   "cell_type": "code",
   "execution_count": 4,
   "metadata": {},
   "outputs": [
    {
     "ename": "",
     "evalue": "",
     "output_type": "error",
     "traceback": [
      "\u001b[1;31mThe Kernel crashed while executing code in the the current cell or a previous cell. Please review the code in the cell(s) to identify a possible cause of the failure. Click <a href='https://aka.ms/vscodeJupyterKernelCrash'>here</a> for more info. View Jupyter <a href='command:jupyter.viewOutput'>log</a> for further details."
     ]
    }
   ],
   "source": [
    "#include<stdio.h>\n",
    "#include<stdlib.h>\n",
    "\n",
    "\n",
    "int i;\n",
    "\n",
    "// cout >> i;\n",
    "scanf(\"%d\",&i);"
   ]
  },
  {
   "cell_type": "code",
   "execution_count": 3,
   "metadata": {},
   "outputs": [],
   "source": [
    "#include<stdio.h>\n",
    "#include<stdlib.h>\n",
    "#include<iostream>\n",
    "\n",
    "using namespace std;\n",
    "\n",
    "int i;\n",
    "\n",
    "cin >> i;"
   ]
  },
  {
   "cell_type": "code",
   "execution_count": 2,
   "metadata": {},
   "outputs": [
    {
     "ename": "",
     "evalue": "",
     "output_type": "error",
     "traceback": [
      "\u001b[1;31mThe Kernel crashed while executing code in the the current cell or a previous cell. Please review the code in the cell(s) to identify a possible cause of the failure. Click <a href='https://aka.ms/vscodeJupyterKernelCrash'>here</a> for more info. View Jupyter <a href='command:jupyter.viewOutput'>log</a> for further details."
     ]
    }
   ],
   "source": [
    "int i;\n",
    "scanf(\"%d\",&(i));"
   ]
  },
  {
   "cell_type": "code",
   "execution_count": 5,
   "metadata": {},
   "outputs": [],
   "source": [
    "typedef struct node{\n",
    "    int value;\n",
    "    node * next;\n",
    "} Node;"
   ]
  },
  {
   "cell_type": "code",
   "execution_count": 1,
   "metadata": {},
   "outputs": [
    {
     "name": "stdout",
     "output_type": "stream",
     "text": [
      "ss"
     ]
    }
   ],
   "source": [
    "printf(\"ss\");"
   ]
  },
  {
   "cell_type": "code",
   "execution_count": 4,
   "metadata": {},
   "outputs": [
    {
     "name": "stderr",
     "output_type": "stream",
     "text": [
      "input_line_10:2:8: error: expected ';' at end of declaration\n",
      " Node x->value=1;\n",
      "       ^\n",
      "       ;\n"
     ]
    },
    {
     "ename": "Interpreter Error",
     "evalue": "",
     "output_type": "error",
     "traceback": [
      "Interpreter Error: "
     ]
    }
   ],
   "source": [
    "Node x->value=1;"
   ]
  },
  {
   "cell_type": "code",
   "execution_count": 7,
   "metadata": {},
   "outputs": [],
   "source": [
    "Node *x;"
   ]
  },
  {
   "cell_type": "code",
   "execution_count": 11,
   "metadata": {},
   "outputs": [],
   "source": [
    "Node * creatNode( int val )\n",
    "{\n",
    "    Node *x = (Node *) malloc(sizeof(Node));\n",
    "    x->value=val;\n",
    "    x->next=NULL;\n",
    "    // printf(\"%d\",x.value);\n",
    "    return x;\n",
    "}\n"
   ]
  },
  {
   "cell_type": "code",
   "execution_count": 12,
   "metadata": {},
   "outputs": [
    {
     "name": "stderr",
     "output_type": "stream",
     "text": [
      "input_line_18:2:2: error: use of undeclared identifier 'x1'\n",
      " x1 = creatNode(2);\n",
      " ^\n"
     ]
    },
    {
     "ename": "Interpreter Error",
     "evalue": "",
     "output_type": "error",
     "traceback": [
      "Interpreter Error: "
     ]
    }
   ],
   "source": [
    "x1 = creatNode(2);\n"
   ]
  },
  {
   "cell_type": "code",
   "execution_count": 57,
   "metadata": {},
   "outputs": [
    {
     "name": "stderr",
     "output_type": "stream",
     "text": [
      "input_line_75:5:23: error: no member named 'data' in 'node'\n",
      "    print(\"%d__>\", p->data);\n",
      "                   ~  ^\n"
     ]
    },
    {
     "ename": "Interpreter Error",
     "evalue": "",
     "output_type": "error",
     "traceback": [
      "Interpreter Error: "
     ]
    }
   ],
   "source": [
    "void showlist(Node *p)\n",
    "{\n",
    "    if(p == NULL)\n",
    "        return;\n",
    "    print(\"%d__>\", p->data);\n",
    "}"
   ]
  },
  {
   "cell_type": "code",
   "execution_count": 20,
   "metadata": {},
   "outputs": [
    {
     "name": "stderr",
     "output_type": "stream",
     "text": [
      "input_line_29:2:18: error: no member named 'val' in 'node'\n",
      " printf(\"%p\",x2->val);\n",
      "             ~~  ^\n"
     ]
    },
    {
     "ename": "Interpreter Error",
     "evalue": "",
     "output_type": "error",
     "traceback": [
      "Interpreter Error: "
     ]
    }
   ],
   "source": [
    "printf(\"%p\",x2->val);"
   ]
  },
  {
   "cell_type": "code",
   "execution_count": 70,
   "metadata": {},
   "outputs": [
    {
     "data": {
      "text/plain": [
       "@0x7ffda41569e8"
      ]
     },
     "execution_count": 70,
     "metadata": {},
     "output_type": "execute_result"
    }
   ],
   "source": [
    "Node *x1 = creatNode(2);\n",
    "Node *x2 = creatNode(3);\n",
    "Node *x3 = creatNode(4);\n",
    "Node *x4 = creatNode(5);\n",
    "\n",
    "x1->next = x2;\n",
    "x2->next = x3;\n",
    "x3->next = x4;\n",
    "x4->next = NULL;\n",
    "\n"
   ]
  },
  {
   "cell_type": "code",
   "execution_count": 89,
   "metadata": {},
   "outputs": [],
   "source": [
    "void showlist(Node *first)\n",
    "{\n",
    "    Node *ptr = first->next;\n",
    "    printf(\"%d->\", first->value);\n",
    "    // Node *ptr = NULL;\n",
    "    while(ptr != NULL)\n",
    "    {\n",
    "        printf(\"%d->\", ptr->value);\n",
    "        ptr = ptr->next;\n",
    "        if(ptr == NULL)\n",
    "        {\n",
    "            printf(\"NLL\");\n",
    "            return;\n",
    "        }        \n",
    "\n",
    "    }\n",
    "    return;\n",
    "}"
   ]
  },
  {
   "cell_type": "code",
   "execution_count": 90,
   "metadata": {},
   "outputs": [
    {
     "name": "stdout",
     "output_type": "stream",
     "text": [
      "2->3->4->5->NLL"
     ]
    }
   ],
   "source": [
    "showlist(x1);"
   ]
  },
  {
   "cell_type": "code",
   "execution_count": 1,
   "metadata": {},
   "outputs": [
    {
     "ename": "",
     "evalue": "",
     "output_type": "error",
     "traceback": [
      "\u001b[1;31mThe Kernel crashed while executing code in the the current cell or a previous cell. Please review the code in the cell(s) to identify a possible cause of the failure. Click <a href='https://aka.ms/vscodeJupyterKernelCrash'>here</a> for more info. View Jupyter <a href='command:jupyter.viewOutput'>log</a> for further details."
     ]
    }
   ],
   "source": [
    "int a;\n",
    "printf(\"%d\",a);\n",
    "scanf(\"%d\", &a);"
   ]
  },
  {
   "cell_type": "code",
   "execution_count": 2,
   "metadata": {},
   "outputs": [
    {
     "ename": "",
     "evalue": "",
     "output_type": "error",
     "traceback": [
      "\u001b[1;31mThe Kernel crashed while executing code in the the current cell or a previous cell. Please review the code in the cell(s) to identify a possible cause of the failure. Click <a href='https://aka.ms/vscodeJupyterKernelCrash'>here</a> for more info. View Jupyter <a href='command:jupyter.viewOutput'>log</a> for further details."
     ]
    }
   ],
   "source": [
    "int a;\n",
    "while(scanf(\"%d\", &a)==1)\n",
    "{\n",
    "    printf(\"%d\",a);\n",
    "}"
   ]
  },
  {
   "cell_type": "code",
   "execution_count": 26,
   "metadata": {},
   "outputs": [
    {
     "name": "stdout",
     "output_type": "stream",
     "text": [
      "1,0x7f25ceaff04c"
     ]
    }
   ],
   "source": [
    "int a=1;\n",
    "printf(\"%d,%p\",a,&a);"
   ]
  },
  {
   "cell_type": "code",
   "execution_count": 55,
   "metadata": {},
   "outputs": [
    {
     "name": "stdout",
     "output_type": "stream",
     "text": [
      "2,(nil)\n",
      "3,(nil)\n",
      "4,(nil)\n",
      "5,(nil)\n"
     ]
    },
    {
     "data": {
      "text/plain": [
       "8"
      ]
     },
     "execution_count": 55,
     "metadata": {},
     "output_type": "execute_result"
    }
   ],
   "source": [
    "printf(\"%d,%p\\n\",x1->value,x1->next);\n",
    "printf(\"%d,%p\\n\",x2->value,x2->next);\n",
    "printf(\"%d,%p\\n\",x3->value,x3->next);\n",
    "printf(\"%d,%p\\n\",x4->value,x4->next);\n",
    "\n"
   ]
  },
  {
   "cell_type": "code",
   "execution_count": 1,
   "metadata": {},
   "outputs": [],
   "source": [
    "typedef struct node{\n",
    "    int data;\n",
    "    node * next;\n",
    "} Node;\n",
    "\n",
    "Node x;\n",
    "Node t;\n"
   ]
  },
  {
   "cell_type": "code",
   "execution_count": 29,
   "metadata": {},
   "outputs": [
    {
     "name": "stdout",
     "output_type": "stream",
     "text": [
      "66"
     ]
    }
   ],
   "source": [
    "t.data = 6;\n",
    "printf(\"%d\", t.data);\n",
    "Node *y;\n",
    "y = &t;\n",
    "printf(\"%d\", (*y).data);"
   ]
  },
  {
   "cell_type": "code",
   "execution_count": 22,
   "metadata": {},
   "outputs": [
    {
     "name": "stderr",
     "output_type": "stream",
     "text": [
      "input_line_28:2:2: warning: null passed to a callee that requires a non-null argument [-Wnonnull]\n",
      " y->data=8;\n",
      " ^\n"
     ]
    },
    {
     "ename": "Interpreter Exception",
     "evalue": "",
     "output_type": "error",
     "traceback": [
      "Interpreter Exception: "
     ]
    }
   ],
   "source": [
    "y->data=8;\n",
    "printf(\"%d\", (*y).data);"
   ]
  },
  {
   "cell_type": "code",
   "execution_count": 15,
   "metadata": {},
   "outputs": [],
   "source": [
    "Node * Creat(int val)\n",
    "{\n",
    "    Node *hp = (Node *) malloc(sizeof(Node));\n",
    "    hp->data = val;\n",
    "    hp->next = hp;\n",
    "    return hp;\n",
    "}"
   ]
  },
  {
   "cell_type": "code",
   "execution_count": 13,
   "metadata": {},
   "outputs": [
    {
     "name": "stderr",
     "output_type": "stream",
     "text": [
      "input_line_19:4:1: warning: null passed to a callee that requires a non-null argument [-Wnonnull]\n",
      "y->data=3;\n",
      "^\n"
     ]
    },
    {
     "ename": "Interpreter Exception",
     "evalue": "",
     "output_type": "error",
     "traceback": [
      "Interpreter Exception: "
     ]
    }
   ],
   "source": [
    "x.data = 2;\n",
    "x.next = y;\n",
    "y->data=3;\n",
    "printf(\"%d\", x.data);\n",
    "// printf(\"%p\", x.next);\n",
    "printf(\"%d\", (*y).data);\n"
   ]
  },
  {
   "cell_type": "code",
   "execution_count": 12,
   "metadata": {},
   "outputs": [
    {
     "name": "stderr",
     "output_type": "stream",
     "text": [
      "input_line_18:4:1: error: no matching function for call to 'printf'\n",
      "printf(x);\n",
      "^~~~~~\n",
      "/home/aronton/anaconda3/envs/cpp/x86_64-conda-linux-gnu/sysroot/usr/include/stdio.h:361:12: note: candidate function not viable: no known conversion from '__cling_N510::Node' (aka 'node') to 'const char *__restrict' for 1st argument\n",
      "extern int printf (__const char *__restrict __format, ...);\n",
      "           ^\n"
     ]
    },
    {
     "ename": "Interpreter Error",
     "evalue": "",
     "output_type": "error",
     "traceback": [
      "Interpreter Error: "
     ]
    }
   ],
   "source": [
    "Node * Assign(int value)\n",
    "{\n",
    "    \n",
    "}"
   ]
  }
 ],
 "metadata": {
  "kernelspec": {
   "display_name": "C++11",
   "language": "C++11",
   "name": "xcpp11"
  },
  "language_info": {
   "codemirror_mode": "text/x-c++src",
   "file_extension": ".cpp",
   "mimetype": "text/x-c++src",
   "name": "c++",
   "version": "11"
  },
  "orig_nbformat": 4
 },
 "nbformat": 4,
 "nbformat_minor": 2
}
